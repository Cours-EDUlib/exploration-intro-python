{
 "cells": [
  {
   "cell_type": "markdown",
   "metadata": {},
   "source": [
    "# Analyse de données et visualisation avec Python\n",
    "## Courte introduction de Python\n",
    "### Jupyter et l'interpréteur Python\n",
    "Python est un langage interprété pouvant être utilisé de deux manières à partir d'un _shell_ Unix :\n",
    "* Interactivement via la commande `python`\n",
    "* Sous la forme d'un script lancé avec la commande `python script.py`\n",
    "\n",
    "Alors que l'interpréteur `python` fonctionne via un terminal et un shell, l'interface Jupyter et les _notebooks_ de type \"Python 3\" offrent une version plus graphique de l'interpréteur `python`. Dans cette interface, chaque boîte d'édition de texte est une _cellule_ pouvant contenir un bout de code Python. Pour exécuter une cellule sélectionnée, il faut appuyer sur les touches Maj+Entrée du clavier :"
   ]
  },
  {
   "cell_type": "code",
   "execution_count": null,
   "metadata": {},
   "outputs": [],
   "source": [
    "2 + 2"
   ]
  },
  {
   "cell_type": "markdown",
   "metadata": {},
   "source": [
    "Dans le précédent exemple, le résultat de la dernière ligne de code a été affiché par Jupyter. De façon générale, il est préférable d'utiliser la fonction `print()`, surtout pour faire afficher de multiples informations à partir d'une même cellule."
   ]
  },
  {
   "cell_type": "code",
   "execution_count": null,
   "metadata": {
    "scrolled": true
   },
   "outputs": [],
   "source": [
    "print(\"Bonjour\")"
   ]
  },
  {
   "cell_type": "markdown",
   "metadata": {},
   "source": [
    "Jupyter permet aussi de lancer des commandes internes avec l'opérateur `!`, ce qui permet d'exécuter un vrai script Python. Soit le script `bonjour.py` suivant :\n",
    "```Python\n",
    "print(\"Bonjour\")\n",
    "```"
   ]
  },
  {
   "cell_type": "markdown",
   "metadata": {},
   "source": [
    "On peut le lancer avec :"
   ]
  },
  {
   "cell_type": "code",
   "execution_count": null,
   "metadata": {},
   "outputs": [],
   "source": [
    "! python bonjour.py"
   ]
  },
  {
   "cell_type": "code",
   "execution_count": null,
   "metadata": {},
   "outputs": [],
   "source": []
  }
 ],
 "metadata": {
  "kernelspec": {
   "display_name": "Python 3",
   "language": "python",
   "name": "python3"
  },
  "language_info": {
   "codemirror_mode": {
    "name": "ipython",
    "version": 3
   },
   "file_extension": ".py",
   "mimetype": "text/x-python",
   "name": "python",
   "nbconvert_exporter": "python",
   "pygments_lexer": "ipython3",
   "version": "3.7.4"
  }
 },
 "nbformat": 4,
 "nbformat_minor": 2
}
