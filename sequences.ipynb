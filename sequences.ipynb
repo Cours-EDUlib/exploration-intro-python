{
 "cells": [
  {
   "cell_type": "markdown",
   "metadata": {},
   "source": [
    "# Analyse de données et visualisation avec Python\n",
    "## Courte introduction de Python\n",
    "### Séquences - Les listes, les tuples et les boucles `for`"
   ]
  },
  {
   "cell_type": "markdown",
   "metadata": {},
   "source": [
    "## Les listes\n",
    "Structure de données permettant de stocker une séquence d'éléments non-triés. Chaque élément peut être accédé à l'aide d'un index. Note : le premier élément est à l'index 0."
   ]
  },
  {
   "cell_type": "code",
   "execution_count": null,
   "metadata": {},
   "outputs": [],
   "source": []
  },
  {
   "cell_type": "markdown",
   "metadata": {},
   "source": [
    "La boucle `for` permet d'accéder à un élément à la fois dans la liste. Note : l'indentation est importante pour indiquer quelles sont les lignes de code à l'intérieur de la boucle."
   ]
  },
  {
   "cell_type": "code",
   "execution_count": null,
   "metadata": {
    "scrolled": true
   },
   "outputs": [],
   "source": []
  },
  {
   "cell_type": "markdown",
   "metadata": {},
   "source": [
    "Pour ajouter un élément à la fin de la liste, c'est possible d'utiliser la méthode `append()` de l'objet `nombres` :"
   ]
  },
  {
   "cell_type": "code",
   "execution_count": null,
   "metadata": {},
   "outputs": [],
   "source": []
  },
  {
   "cell_type": "markdown",
   "metadata": {},
   "source": [
    "Pour connaître les méthodes disponibles à un objet, c'est possible d'utiliser la fonction `help()` :"
   ]
  },
  {
   "cell_type": "code",
   "execution_count": null,
   "metadata": {},
   "outputs": [],
   "source": []
  },
  {
   "cell_type": "markdown",
   "metadata": {},
   "source": [
    "## Les tuples\n",
    "Structure de données créée avec des éléments non-triés. Une fois créé, le tuple est immuable ou constant."
   ]
  },
  {
   "cell_type": "code",
   "execution_count": null,
   "metadata": {},
   "outputs": [],
   "source": [
    "un_tuple = (8, 15, 17)\n",
    "un_autre = ('rouge', 'vert', 'bleu')\n",
    "\n",
    "une_liste = [un_tuple, un_autre, \"fin\"]"
   ]
  },
  {
   "cell_type": "markdown",
   "metadata": {},
   "source": [
    "## Exercices"
   ]
  },
  {
   "cell_type": "markdown",
   "metadata": {},
   "source": [
    "### Exercice 1\n",
    "Sachant que :\n",
    "* l'expression `range(N)` génère une séquence numérique sur laquelle on peut itérer,\n",
    "* on peut accéder aux derniers éléments d'une liste à l'aide d'indices négatifs,\n",
    "\n",
    "calculez la suite de Fibonacci en partant des nombres `1` et `1` dans une liste `fibo`, et en ajoutant à cet liste les 16 nombres suivants. Note: chaque nouveau nombre de la suite de Fibonacci est la somme des deux précédents."
   ]
  },
  {
   "cell_type": "code",
   "execution_count": null,
   "metadata": {},
   "outputs": [],
   "source": [
    "fibo = [1, 1]\n",
    "\n",
    "### range(16):\n",
    "    ###\n",
    "\n",
    "print(fibo)\n",
    "print(\"Nombre d'or :\", fibo[-1] / fibo[-2])"
   ]
  },
  {
   "cell_type": "markdown",
   "metadata": {},
   "source": [
    "### Exercice 2\n",
    "Sachant que :\n",
    "* `'sép'.join(séquence)` va générer une chaîne de caractères contenant tous les items de `séquence` séparés d'un séparateur `sép`, soit par exemple un espace ou une virgule\n",
    "\n",
    "faites afficher un contenu de fichier CSV (Comma Separated Values), soit une ligne d'entête avec les noms de colonnes et toutes les données de chaque chat, et ce, avec chaque colonne séparée d'une virgule."
   ]
  },
  {
   "cell_type": "code",
   "execution_count": null,
   "metadata": {},
   "outputs": [],
   "source": [
    "colonnes = ['chat_id', 'nom', 'age', 'race_id', 'maitre_id']\n",
    "chats = [  ('253',     \"Léo\",  '12',    '1732',      '5149'),\n",
    "           ('301',   \"Tiger\",   '5',    '2011',      '8654'),\n",
    "           ('376',   \"Minou\",   '2',     '977',      '9184')]\n",
    "\n",
    "print(','.join(###))\n",
    "###\n",
    "    print(','.join(###))"
   ]
  },
  {
   "cell_type": "code",
   "execution_count": null,
   "metadata": {},
   "outputs": [],
   "source": []
  }
 ],
 "metadata": {
  "kernelspec": {
   "display_name": "Python 3",
   "language": "python",
   "name": "python3"
  },
  "language_info": {
   "codemirror_mode": {
    "name": "ipython",
    "version": 3
   },
   "file_extension": ".py",
   "mimetype": "text/x-python",
   "name": "python",
   "nbconvert_exporter": "python",
   "pygments_lexer": "ipython3",
   "version": "3.7.4"
  }
 },
 "nbformat": 4,
 "nbformat_minor": 2
}
