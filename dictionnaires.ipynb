{
 "cells": [
  {
   "cell_type": "markdown",
   "metadata": {},
   "source": [
    "# Analyse de données et visualisation avec Python\n",
    "## Courte introduction de Python\n",
    "### Les dictionnaires\n",
    "Les dictionnaires sont un type de conteneur permettant de stocker des paires de clés et de valeurs."
   ]
  },
  {
   "cell_type": "code",
   "execution_count": null,
   "metadata": {},
   "outputs": [],
   "source": [
    "traduction = ###\n",
    "traduction###"
   ]
  },
  {
   "cell_type": "markdown",
   "metadata": {},
   "source": [
    "Chaque clé doit être unique et de type _hashable_. Les nombres, les chaînes de caractères et les tuples sont corrects."
   ]
  },
  {
   "cell_type": "code",
   "execution_count": null,
   "metadata": {},
   "outputs": [],
   "source": [
    "inverse = ###\n",
    "inverse###"
   ]
  },
  {
   "cell_type": "code",
   "execution_count": null,
   "metadata": {},
   "outputs": [],
   "source": [
    "mauvais = {###: 3}"
   ]
  },
  {
   "cell_type": "markdown",
   "metadata": {},
   "source": [
    "C'est possible d'ajouter un item au dictionnaire à l'aide d'une nouvelle clé :"
   ]
  },
  {
   "cell_type": "code",
   "execution_count": null,
   "metadata": {},
   "outputs": [],
   "source": [
    "inverse###\n",
    "inverse"
   ]
  },
  {
   "cell_type": "markdown",
   "metadata": {},
   "source": [
    "Avec une boucle `for`, on peut récupérer une paire clé-valeur à la fois :"
   ]
  },
  {
   "cell_type": "code",
   "execution_count": null,
   "metadata": {},
   "outputs": [],
   "source": [
    "###\n",
    "    ###"
   ]
  },
  {
   "cell_type": "markdown",
   "metadata": {},
   "source": [
    "On peut aussi boucler sur les clés seulement :"
   ]
  },
  {
   "cell_type": "code",
   "execution_count": null,
   "metadata": {},
   "outputs": [],
   "source": [
    "for ### in ###:\n",
    "    print(###)"
   ]
  },
  {
   "cell_type": "markdown",
   "metadata": {},
   "source": [
    "## Exercices"
   ]
  },
  {
   "cell_type": "markdown",
   "metadata": {},
   "source": [
    "### Exercice 1\n",
    "Sachant que:\n",
    "* l'expression `range(N)` génère une séquence numérique sur laquelle on peut itérer,\n",
    "* l'expression `len(sequence)` retourne le nombre d'items dans `sequence`,\n",
    "* l'expression `{}` représente un dictionnaire vide,\n",
    "* l'expression `[]` représente une liste vide,\n",
    "\n",
    "transposez les données fournies et sauvegardez-les dans un dictionnaire de telle sorte que chaque clé soit le nom d'une colonne et que la valeur soit une liste contenant les valeurs de la colonne correspondante. Enfin, à l'aide de la clé `'nom'`, faites afficher les différents noms de chats."
   ]
  },
  {
   "cell_type": "code",
   "execution_count": null,
   "metadata": {},
   "outputs": [],
   "source": [
    "colonnes = ['chat_id', 'nom', 'age', 'race_id', 'maitre_id']\n",
    "chats = [  (253,       \"Léo\",    12,      1732,        5149),\n",
    "           (301,     \"Tiger\",     5,      2011,        8654),\n",
    "           (376,     \"Minou\",     2,       977,        9184)]\n",
    "tableur_chats = ###\n",
    "\n",
    "for i in range(len(colonnes)):\n",
    "    nouvelle_colonne = ###\n",
    "    for chat in ###:\n",
    "        nouvelle_colonne.###(chat[i])\n",
    "    tableur_chats###\n",
    "\n",
    "for nom in tableur_chats###:\n",
    "    print(nom)"
   ]
  },
  {
   "cell_type": "code",
   "execution_count": null,
   "metadata": {},
   "outputs": [],
   "source": []
  }
 ],
 "metadata": {
  "kernelspec": {
   "display_name": "Python 3",
   "language": "python",
   "name": "python3"
  },
  "language_info": {
   "codemirror_mode": {
    "name": "ipython",
    "version": 3
   },
   "file_extension": ".py",
   "mimetype": "text/x-python",
   "name": "python",
   "nbconvert_exporter": "python",
   "pygments_lexer": "ipython3",
   "version": "3.7.4"
  }
 },
 "nbformat": 4,
 "nbformat_minor": 2
}
